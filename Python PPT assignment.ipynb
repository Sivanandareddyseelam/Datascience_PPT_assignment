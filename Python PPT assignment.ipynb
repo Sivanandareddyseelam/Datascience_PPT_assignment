{
 "cells": [
  {
   "cell_type": "markdown",
   "id": "42558fe7",
   "metadata": {},
   "source": [
    "## 1. Write a Python program to reverse a string without using any built-in string reversal functions. "
   ]
  },
  {
   "cell_type": "code",
   "execution_count": 1,
   "id": "29e67c2f",
   "metadata": {},
   "outputs": [
    {
     "name": "stdout",
     "output_type": "stream",
     "text": [
      "gnimmargorpnohty"
     ]
    }
   ],
   "source": [
    "string = \"pythonprogramming\"\n",
    "\n",
    "'''\n",
    "reversed_string = string[::-1]\n",
    "reversed_string\n",
    "'''\n",
    "#or\n",
    "\n",
    "for x in range(len(string)-1,0,-1):\n",
    "    print(string[x], end = \"\")\n",
    "    \n"
   ]
  },
  {
   "cell_type": "markdown",
   "id": "61369d07",
   "metadata": {},
   "source": [
    "## 2. Implement a function to check if a given string is a palindrome."
   ]
  },
  {
   "cell_type": "code",
   "execution_count": 2,
   "id": "a801dcc3",
   "metadata": {},
   "outputs": [
    {
     "data": {
      "text/plain": [
       "'palindrome'"
      ]
     },
     "execution_count": 2,
     "metadata": {},
     "output_type": "execute_result"
    }
   ],
   "source": [
    "def palindrome(string):\n",
    "    first = 0\n",
    "    last = len(string)-1\n",
    "    for i in range(len(string)//2):\n",
    "        if string[first+i] == string[last-i]:\n",
    "            pass\n",
    "        else:\n",
    "            return \"not a Palindrome\"\n",
    "    return \"palindrome\"\n",
    "            \n",
    "\n",
    "string = \"abcqcba\"\n",
    "palindrome(string)\n"
   ]
  },
  {
   "cell_type": "markdown",
   "id": "42b1dba6",
   "metadata": {},
   "source": [
    "## 3. Write a program to find the largest element in a given list."
   ]
  },
  {
   "cell_type": "code",
   "execution_count": 3,
   "id": "ba4360a4",
   "metadata": {},
   "outputs": [
    {
     "data": {
      "text/plain": [
       "600"
      ]
     },
     "execution_count": 3,
     "metadata": {},
     "output_type": "execute_result"
    }
   ],
   "source": [
    "# Function definition\n",
    "def largest_element_of_list(lst):\n",
    "    max_ele = 0\n",
    "    for i in range(len(lst)-1):\n",
    "        if lst[i] > lst[i+1] and max_ele < lst[i]:\n",
    "            max_ele = lst[i]\n",
    "        elif lst[i+1] > lst[i] and max_ele < lst[i+1]:\n",
    "            max_ele = lst[i+1]\n",
    "    return max_ele\n",
    "        \n",
    "\n",
    "#Driver code\n",
    "lst = [1,3,4,600,22,100]\n",
    "largest_element_of_list(lst)  \n",
    "\n"
   ]
  },
  {
   "cell_type": "markdown",
   "id": "81f0a17d",
   "metadata": {},
   "source": [
    "## 4. Implement a function to count the occurrence of each element in a list."
   ]
  },
  {
   "cell_type": "code",
   "execution_count": 4,
   "id": "f0a0a305",
   "metadata": {},
   "outputs": [
    {
     "data": {
      "text/plain": [
       "{1: 3, 2: 5, 3: 1, 5: 3, 6: 1}"
      ]
     },
     "execution_count": 4,
     "metadata": {},
     "output_type": "execute_result"
    }
   ],
   "source": [
    "# Function definition\n",
    "def count_of_ele(lst):\n",
    "    list_set = set(lst)\n",
    "    dic = {}\n",
    "    for i in list_set:\n",
    "        val = lst.count(i)\n",
    "        dic[i] = val\n",
    "    return dic\n",
    "\n",
    "\n",
    "\n",
    "# Driver code\n",
    "lst = [1,1,1,2,2,2,5,5,5,6,3,2,2]\n",
    "count_of_ele(lst)"
   ]
  },
  {
   "cell_type": "markdown",
   "id": "3e6703cd",
   "metadata": {},
   "source": [
    "## 5. Write a Python program to find the second largest number in a list."
   ]
  },
  {
   "cell_type": "code",
   "execution_count": 5,
   "id": "87efab1e",
   "metadata": {},
   "outputs": [
    {
     "data": {
      "text/plain": [
       "23"
      ]
     },
     "execution_count": 5,
     "metadata": {},
     "output_type": "execute_result"
    }
   ],
   "source": [
    "# Function definition\n",
    "def second_larg(lst):\n",
    "    list_set = set(lst)\n",
    "    new_lst = list(list_set)\n",
    "    new_lst = sorted(new_lst)\n",
    "    return new_lst[-2]\n",
    "\n",
    "\n",
    "# Driver code\n",
    "lst = [100,23,8,5,6,7,10]\n",
    "second_larg(lst)"
   ]
  },
  {
   "cell_type": "markdown",
   "id": "2899c8f3",
   "metadata": {},
   "source": [
    "## 6. Implement a function to remove duplicate elements from a list. "
   ]
  },
  {
   "cell_type": "code",
   "execution_count": 6,
   "id": "a6e66394",
   "metadata": {},
   "outputs": [
    {
     "data": {
      "text/plain": [
       "[2, 5, 8, 's', 'r', 'n']"
      ]
     },
     "execution_count": 6,
     "metadata": {},
     "output_type": "execute_result"
    }
   ],
   "source": [
    "# Fucntion definition\n",
    "def remove_duplicates(lst):\n",
    "    list_set = set(lst)\n",
    "    new_list = list(list_set)\n",
    "    return new_list\n",
    "\n",
    "\n",
    "\n",
    "# Driver code\n",
    "lst = [2,2,5,5,5,8,\"s\",\"n\",\"r\",\"r\",\"r\"]\n",
    "remove_duplicates(lst)"
   ]
  },
  {
   "cell_type": "markdown",
   "id": "ce71de16",
   "metadata": {},
   "source": [
    "## 7. Write a program to calculate the factorial of a given number. "
   ]
  },
  {
   "cell_type": "code",
   "execution_count": 7,
   "id": "41dc7400",
   "metadata": {},
   "outputs": [
    {
     "data": {
      "text/plain": [
       "24"
      ]
     },
     "execution_count": 7,
     "metadata": {},
     "output_type": "execute_result"
    }
   ],
   "source": [
    "# Function definition\n",
    "def fact_of_number(n):\n",
    "    if n < 0:\n",
    "        return \"factorial not allowed for negative values\"\n",
    "    elif n == 0:\n",
    "        return 1\n",
    "    elif n > 0:\n",
    "        return n*fact_of_number(n-1)\n",
    "    \n",
    "\n",
    "# Driver code\n",
    "n = 4\n",
    "fact_of_number(n)"
   ]
  },
  {
   "cell_type": "markdown",
   "id": "7d108122",
   "metadata": {},
   "source": [
    "## 8. Implement a function to check if a given number is prime"
   ]
  },
  {
   "cell_type": "code",
   "execution_count": 8,
   "id": "06c2e396",
   "metadata": {},
   "outputs": [
    {
     "data": {
      "text/plain": [
       "'Not a Prime Number'"
      ]
     },
     "execution_count": 8,
     "metadata": {},
     "output_type": "execute_result"
    }
   ],
   "source": [
    "# Function def\n",
    "# prime number is divisible by it's own number and 1\n",
    "# if it is divisible by any other number it is not a prime number\n",
    "\n",
    "def prime_num_ornot(n):\n",
    "   \n",
    "    if n > 1:\n",
    "        if n == 2:\n",
    "            return \"Prime Number\"\n",
    "        for i in range(2, n):\n",
    "            if n % i == 0:\n",
    "                return \"Not a Prime Number\"\n",
    "            else:\n",
    "                return \"Prime Number\"\n",
    "    \n",
    "    else:\n",
    "        return \"Not a Prime Number\"\n",
    "    \n",
    "# Driver Code\n",
    "n = 6\n",
    "prime_num_ornot(n)"
   ]
  },
  {
   "cell_type": "markdown",
   "id": "771448c5",
   "metadata": {},
   "source": [
    "## 9. Write a Python program to sort a list of integers in ascending order."
   ]
  },
  {
   "cell_type": "code",
   "execution_count": 9,
   "id": "ae4766ed",
   "metadata": {},
   "outputs": [
    {
     "data": {
      "text/plain": [
       "[1, 9, 29, 70, 448]"
      ]
     },
     "execution_count": 9,
     "metadata": {},
     "output_type": "execute_result"
    }
   ],
   "source": [
    "# Function definition\n",
    "def sorting_func(lst):\n",
    "    for i in range(len(lst)):\n",
    "        for j in range(len(lst)-i-1):\n",
    "            if lst[j] > lst[j+1]:\n",
    "                lst[j],lst[j+1] = lst[j+1],lst[j]\n",
    "    return lst\n",
    "\n",
    "\n",
    "# Driver code\n",
    "lst = [1,70,9,29,448]\n",
    "sorting_func(lst)"
   ]
  },
  {
   "cell_type": "markdown",
   "id": "4e17612a",
   "metadata": {},
   "source": [
    "## 10. Implement a function to find the sum of all numbers in a list."
   ]
  },
  {
   "cell_type": "code",
   "execution_count": 10,
   "id": "fb8ac8ee",
   "metadata": {},
   "outputs": [
    {
     "data": {
      "text/plain": [
       "23"
      ]
     },
     "execution_count": 10,
     "metadata": {},
     "output_type": "execute_result"
    }
   ],
   "source": [
    "# Function definition\n",
    "def sum_of_elements(lst):\n",
    "    sum_of_list = 0\n",
    "    for x in lst:\n",
    "        sum_of_list = sum_of_list + x\n",
    "    return sum_of_list\n",
    "\n",
    "\n",
    "# Driver code\n",
    "lst = [1,3,4,5,10]\n",
    "sum_of_elements(lst)\n"
   ]
  },
  {
   "cell_type": "markdown",
   "id": "bb166604",
   "metadata": {},
   "source": [
    "## 11. Write a program to find the common elements between two lists."
   ]
  },
  {
   "cell_type": "code",
   "execution_count": 11,
   "id": "0b959254",
   "metadata": {},
   "outputs": [
    {
     "name": "stdout",
     "output_type": "stream",
     "text": [
      "3\n",
      "6\n"
     ]
    }
   ],
   "source": [
    "# Function definition\n",
    "def common_ele():\n",
    "    for i in lst1:\n",
    "        if i in lst2:\n",
    "            print(i)\n",
    "    \n",
    "\n",
    "\n",
    "# Driver code\n",
    "lst1 = [1,3,5,6,7]\n",
    "lst2 = [2,3,4,6,9]\n",
    "common_ele()"
   ]
  },
  {
   "cell_type": "markdown",
   "id": "01f1816d",
   "metadata": {},
   "source": [
    "## 12. Implement a function to check if a given string is an anagram of another string."
   ]
  },
  {
   "cell_type": "code",
   "execution_count": 12,
   "id": "c5b794be",
   "metadata": {},
   "outputs": [
    {
     "data": {
      "text/plain": [
       "'Given string is an Anagram'"
      ]
     },
     "execution_count": 12,
     "metadata": {},
     "output_type": "execute_result"
    }
   ],
   "source": [
    "#Function definition\n",
    "# anagram - all charachters of str1 available in str2\n",
    "def anagram_ornot(str1,str2):\n",
    "    for i in str1:\n",
    "        if i in str2:\n",
    "            pass\n",
    "        else:\n",
    "            return \"Given string is not an Anagram\"\n",
    "    return \"Given string is an Anagram\"\n",
    "    \n",
    "\n",
    "\n",
    "# Driver code\n",
    "str1 = \"glaen\"  # given string\n",
    "str2 = \"angel\"\n",
    "anagram_ornot(str1,str2)"
   ]
  },
  {
   "cell_type": "markdown",
   "id": "e1c87340",
   "metadata": {},
   "source": [
    "## 13. Write a Python program to generate all permutations of a given string."
   ]
  },
  {
   "cell_type": "code",
   "execution_count": 73,
   "id": "8fce4412",
   "metadata": {},
   "outputs": [
    {
     "data": {
      "text/plain": [
       "['ABC', 'ACB', 'BAC', 'BCA', 'CAB', 'CBA']"
      ]
     },
     "execution_count": 73,
     "metadata": {},
     "output_type": "execute_result"
    }
   ],
   "source": [
    "# Function definition\n",
    "import itertools\n",
    "\n",
    "def permutations(string):\n",
    "    \n",
    "    perms = itertools.permutations(string)  # Use itertools.permutations to generate permutations\n",
    "\n",
    "    perms = [''.join(perm) for perm in perms]  # Convert the permutations to a list of strings\n",
    "\n",
    "    return perms\n",
    "\n",
    "\n",
    "\n",
    "# Driver code\n",
    "s = \"ABC\"\n",
    "permutations(s)\n",
    "\n"
   ]
  },
  {
   "cell_type": "markdown",
   "id": "699f6c03",
   "metadata": {},
   "source": [
    "## 14. Implement a function to calculate the Fibonacci sequence up to a given number of terms"
   ]
  },
  {
   "cell_type": "code",
   "execution_count": 14,
   "id": "6429c3fa",
   "metadata": {},
   "outputs": [
    {
     "name": "stdout",
     "output_type": "stream",
     "text": [
      "0 1 1 2 3 5 8 13 21 "
     ]
    }
   ],
   "source": [
    "# fucnction definition\n",
    "def fibanocci(n):\n",
    "    if n <= 0:\n",
    "        return \"Provide positive no\"\n",
    "    elif n == 1:\n",
    "        return 0\n",
    "    else:\n",
    "        count = 0\n",
    "        n1 = 0\n",
    "        n2 = 1\n",
    "        print(n1,end = \" \")\n",
    "        count = count +1\n",
    "        print(n2,end = \" \")\n",
    "        count = count +1\n",
    "        while count <= n:\n",
    "            nth = n1+n2\n",
    "            print(nth,end = \" \")\n",
    "            count = count+1\n",
    "            n1 = n2\n",
    "            n2 = nth       \n",
    "\n",
    "# Driver code\n",
    "n = 8\n",
    "fibanocci(n)"
   ]
  },
  {
   "cell_type": "markdown",
   "id": "07fcd09c",
   "metadata": {},
   "source": [
    "## 15. Write a program to find the median of a list of numbers"
   ]
  },
  {
   "cell_type": "code",
   "execution_count": 15,
   "id": "d7e9db15",
   "metadata": {},
   "outputs": [
    {
     "data": {
      "text/plain": [
       "4"
      ]
     },
     "execution_count": 15,
     "metadata": {},
     "output_type": "execute_result"
    }
   ],
   "source": [
    "# Function definition\n",
    "def find_median(lst):\n",
    "    lst.sort()\n",
    "    n = len(lst)\n",
    "    if len(lst)%2 == 0:\n",
    "        median = (lst[n//2]+lst[n//2-1])/2\n",
    "    else:\n",
    "        median = lst[n//2]\n",
    "    return median\n",
    "\n",
    "\n",
    "\n",
    "# Driver code\n",
    "lst = [1,4,5,23,4,6,4]\n",
    "find_median(lst)"
   ]
  },
  {
   "cell_type": "markdown",
   "id": "fbc955f6",
   "metadata": {},
   "source": [
    "## 16. Implement a function to check if a given list is sorted in non-decreasing order. "
   ]
  },
  {
   "cell_type": "code",
   "execution_count": 16,
   "id": "90f3feb3",
   "metadata": {},
   "outputs": [
    {
     "data": {
      "text/plain": [
       "'Given list does not sorted in non-decreasing order'"
      ]
     },
     "execution_count": 16,
     "metadata": {},
     "output_type": "execute_result"
    }
   ],
   "source": [
    "# Function definition\n",
    "def list_order(lst):\n",
    "    for i in range(len(lst)-1):\n",
    "        if lst[i] < lst[i+1]:\n",
    "            pass\n",
    "        else:\n",
    "            return \"Given list does not sorted in non-decreasing order\"\n",
    "    return \"Gien list sorted in non-decreasing order\"\n",
    "\n",
    "# Driver code\n",
    "lst = [1,3,95,7,87]\n",
    "list_order(lst)\n"
   ]
  },
  {
   "cell_type": "markdown",
   "id": "ccd534c5",
   "metadata": {},
   "source": [
    "## 17. Write a Python program to find the intersection of two lists."
   ]
  },
  {
   "cell_type": "code",
   "execution_count": 17,
   "id": "a444ac4e",
   "metadata": {},
   "outputs": [
    {
     "data": {
      "text/plain": [
       "[3, 6]"
      ]
     },
     "execution_count": 17,
     "metadata": {},
     "output_type": "execute_result"
    }
   ],
   "source": [
    "# Function definition\n",
    "def common_ele():\n",
    "    lst = []\n",
    "    for i in lst1:\n",
    "        if i in lst2:\n",
    "            lst.append(i)\n",
    "    return lst\n",
    "    \n",
    "\n",
    "\n",
    "# Driver code\n",
    "lst1 = [1,3,5,6,7]\n",
    "lst2 = [2,3,4,6,9]\n",
    "common_ele()"
   ]
  },
  {
   "cell_type": "markdown",
   "id": "43788830",
   "metadata": {},
   "source": [
    "## 18. Implement a function to find the maximum subarray sum in a given list."
   ]
  },
  {
   "cell_type": "code",
   "execution_count": 77,
   "id": "4bd3a0ca",
   "metadata": {},
   "outputs": [
    {
     "data": {
      "text/plain": [
       "9"
      ]
     },
     "execution_count": 77,
     "metadata": {},
     "output_type": "execute_result"
    }
   ],
   "source": [
    "# Function definition\n",
    "def max_subarray_sum(nums):\n",
    "    max_sum = 0 \n",
    "    \n",
    "    current_sum = 0  # Initialize the current sum as 0\n",
    "\n",
    "    for num in nums:\n",
    "        # Add the current element to the current sum or start a new sum if the current sum is negative\n",
    "        current_sum = max(num, current_sum + num)\n",
    "\n",
    "        # Update the maximum sum if the current sum is greater\n",
    "        max_sum = max(max_sum, current_sum)\n",
    "\n",
    "    return max_sum\n",
    "\n",
    "\n",
    "# Driver code\n",
    "list = [-2, 1, -3, 4, -1, 3 ,2, 1, -5, 4]\n",
    "max_subarray_sum(list)\n",
    "\n",
    "\n",
    "\n",
    "\n"
   ]
  },
  {
   "cell_type": "markdown",
   "id": "b7f18f07",
   "metadata": {},
   "source": [
    "## 19. Write a program to remove all vowels from a given string. "
   ]
  },
  {
   "cell_type": "code",
   "execution_count": 19,
   "id": "307cd2b0",
   "metadata": {},
   "outputs": [
    {
     "data": {
      "text/plain": [
       "'prgrm'"
      ]
     },
     "execution_count": 19,
     "metadata": {},
     "output_type": "execute_result"
    }
   ],
   "source": [
    "# Function definition\n",
    "def remove_vowels(str):\n",
    "    vowels = [\"a\",\"e\",\"i\",\"o\",\"u\"]\n",
    "    lst = list(str)\n",
    "    for i in str:\n",
    "        if i in vowels:\n",
    "            lst.remove(i)\n",
    "    nstr = \"\".join(lst)\n",
    "    return nstr\n",
    "   \n",
    "   \n",
    "    \n",
    "\n",
    "\n",
    "# Driver code\n",
    "str = \"program\"\n",
    "remove_vowels(str)"
   ]
  },
  {
   "cell_type": "markdown",
   "id": "cbd7e610",
   "metadata": {},
   "source": [
    "## 20. Implement a function to reverse the order of words in a given sentence. "
   ]
  },
  {
   "cell_type": "code",
   "execution_count": 20,
   "id": "257fe3d8",
   "metadata": {},
   "outputs": [
    {
     "data": {
      "text/plain": [
       "'sentence given a in words of order the reverse to function a Implement'"
      ]
     },
     "execution_count": 20,
     "metadata": {},
     "output_type": "execute_result"
    }
   ],
   "source": [
    "# Function definition\n",
    "def reverse_order_ofwords(statement):\n",
    "    list_ofwords = statement.split()\n",
    "    rlist = list_ofwords[::-1]\n",
    "    nstatement = \" \".join(rlist)\n",
    "    return nstatement\n",
    "\n",
    "\n",
    "# Driver code\n",
    "statement = \"Implement a function to reverse the order of words in a given sentence\"\n",
    "reverse_order_ofwords(statement)"
   ]
  },
  {
   "cell_type": "markdown",
   "id": "02aa555b",
   "metadata": {},
   "source": [
    "# 21. Write a Python program to check if two strings are anagrams of each other."
   ]
  },
  {
   "cell_type": "code",
   "execution_count": 21,
   "id": "d5626007",
   "metadata": {},
   "outputs": [
    {
     "data": {
      "text/plain": [
       "'Given strings are Anagrams to each other'"
      ]
     },
     "execution_count": 21,
     "metadata": {},
     "output_type": "execute_result"
    }
   ],
   "source": [
    "#Function definition\n",
    "# anagram - all charachters of str1 available in str2\n",
    "def anagram_ornot(str1,str2):\n",
    "    if len(str1) == len(str2):\n",
    "        for i in str1:\n",
    "            if i in str2:\n",
    "                pass\n",
    "            else:\n",
    "                return \"Given strings are not Anagrams of each other\"\n",
    "        return \"Given strings are Anagrams to each other\"\n",
    "    return \"Given strings are not Anagrams of each other\"\n",
    "\n",
    "\n",
    "# Driver code\n",
    "str1 = \"glaen\"  # given string\n",
    "str2 = \"angel\"\n",
    "anagram_ornot(str1,str2)"
   ]
  },
  {
   "cell_type": "markdown",
   "id": "98f36f06",
   "metadata": {},
   "source": [
    "## 22. Implement a function to find the first non-repeating character in a string."
   ]
  },
  {
   "cell_type": "code",
   "execution_count": 22,
   "id": "9aac4e4f",
   "metadata": {},
   "outputs": [
    {
     "data": {
      "text/plain": [
       "'g'"
      ]
     },
     "execution_count": 22,
     "metadata": {},
     "output_type": "execute_result"
    }
   ],
   "source": [
    "# Function definition\n",
    "def first_nonrep_char(given_str):\n",
    "    lst = list(given_str)\n",
    "    for i in range(len(lst)):\n",
    "        if lst[i] in lst[i+1:]:\n",
    "            pass\n",
    "        else:\n",
    "            return lst[i]\n",
    "        \n",
    "            \n",
    "        \n",
    "\n",
    "\n",
    "# Driver code\n",
    "given_str = \"anagrnam\"\n",
    "first_nonrep_char(given_str)"
   ]
  },
  {
   "cell_type": "markdown",
   "id": "bf40a625",
   "metadata": {},
   "source": [
    "## 23. Write a program to find the prime factors of a given number."
   ]
  },
  {
   "cell_type": "code",
   "execution_count": 23,
   "id": "6c69ee11",
   "metadata": {},
   "outputs": [
    {
     "name": "stdout",
     "output_type": "stream",
     "text": [
      "2\n",
      "2\n",
      "3\n"
     ]
    }
   ],
   "source": [
    "# Function definition\n",
    "def prime_factors(n):\n",
    "    for i in range(2,n):\n",
    "        while n % i == 0:\n",
    "            print(i)\n",
    "            n = n / i\n",
    "    \n",
    "\n",
    "\n",
    "# Driver code\n",
    "n = 12\n",
    "prime_factors(n)"
   ]
  },
  {
   "cell_type": "markdown",
   "id": "2d0376e4",
   "metadata": {},
   "source": [
    "## 24. Implement a function to check if a given number is a power of two."
   ]
  },
  {
   "cell_type": "code",
   "execution_count": 24,
   "id": "7c6b11f9",
   "metadata": {},
   "outputs": [
    {
     "data": {
      "text/plain": [
       "False"
      ]
     },
     "execution_count": 24,
     "metadata": {},
     "output_type": "execute_result"
    }
   ],
   "source": [
    "# Function definition\n",
    "def power_oftwoornot(n):\n",
    "    N = n\n",
    "    count = 0\n",
    "    while n % 2 == 0:\n",
    "        count = count + 1\n",
    "        n = n / 2 \n",
    "       \n",
    "    if pow(2,count) == N:\n",
    "        return True\n",
    "    else:\n",
    "        return False\n",
    "        \n",
    "    \n",
    "\n",
    "# Driver code\n",
    "n = 6\n",
    "power_oftwoornot(n)\n"
   ]
  },
  {
   "cell_type": "markdown",
   "id": "b8a38e31",
   "metadata": {},
   "source": [
    "## 25. Write a Python program to merge two sorted lists into a single sorted list."
   ]
  },
  {
   "cell_type": "code",
   "execution_count": 25,
   "id": "decaa418",
   "metadata": {},
   "outputs": [
    {
     "data": {
      "text/plain": [
       "[1, 2, 3, 3, 4, 5, 6, 6, 7, 9]"
      ]
     },
     "execution_count": 25,
     "metadata": {},
     "output_type": "execute_result"
    }
   ],
   "source": [
    "# Function definition\n",
    "def two_sorted_list(lst1,lst2):\n",
    "    lst1.extend(lst2)\n",
    "    nlist = sorted(lst1)\n",
    "    return nlist\n",
    "\n",
    "# Driver code\n",
    "lst1 = [1,3,5,6,7]\n",
    "lst2 = [2,3,4,6,9]\n",
    "two_sorted_list(lst1,lst2)"
   ]
  },
  {
   "cell_type": "markdown",
   "id": "7d0f54e2",
   "metadata": {},
   "source": [
    "## 26. Implement a function to find the mode of a list of numbers."
   ]
  },
  {
   "cell_type": "code",
   "execution_count": 26,
   "id": "e0dfd3b6",
   "metadata": {},
   "outputs": [
    {
     "data": {
      "text/plain": [
       "2"
      ]
     },
     "execution_count": 26,
     "metadata": {},
     "output_type": "execute_result"
    }
   ],
   "source": [
    "# Function definition\n",
    "def mode_oflist(lst):\n",
    "    mode = 0\n",
    "    for i in lst:\n",
    "        tempc = lst.count(i)\n",
    "        if tempc > mode:\n",
    "            mode = i\n",
    "        else:\n",
    "            pass\n",
    "    return mode\n",
    "    \n",
    "    \n",
    "\n",
    "\n",
    "# Driver code\n",
    "lst = [1, 2, 3, 3, 4, 5, 6, 6, 7,2,2,2 ,9]\n",
    "mode_oflist(lst)\n"
   ]
  },
  {
   "cell_type": "markdown",
   "id": "3122f1fb",
   "metadata": {},
   "source": [
    "## 27. Write a program to find the greatest common divisor (GCD) of two numbers. "
   ]
  },
  {
   "cell_type": "code",
   "execution_count": 66,
   "id": "52ef0aaa",
   "metadata": {},
   "outputs": [
    {
     "data": {
      "text/plain": [
       "8"
      ]
     },
     "execution_count": 66,
     "metadata": {},
     "output_type": "execute_result"
    }
   ],
   "source": [
    "# Fucntion definition\n",
    "def gcd(a, b):\n",
    "    while b != 0:\n",
    "        a, b = b, a % b\n",
    "    return a\n",
    "\n",
    "\n",
    "# Driver code\n",
    "num1 = 8\n",
    "num2 = 24\n",
    "gcd(num1, num2)"
   ]
  },
  {
   "cell_type": "markdown",
   "id": "6cb562cf",
   "metadata": {},
   "source": [
    "## 28. Implement a function to calculate the square root of a given number. "
   ]
  },
  {
   "cell_type": "code",
   "execution_count": 27,
   "id": "ce3cc4c1",
   "metadata": {},
   "outputs": [
    {
     "data": {
      "text/plain": [
       "10.0"
      ]
     },
     "execution_count": 27,
     "metadata": {},
     "output_type": "execute_result"
    }
   ],
   "source": [
    "# Function definition\n",
    "def square_root(n):\n",
    "    sqrt = pow(n,0.5)\n",
    "    return sqrt\n",
    "    \n",
    "\n",
    "\n",
    "# Driver code\n",
    "n = 100\n",
    "square_root(n)"
   ]
  },
  {
   "cell_type": "markdown",
   "id": "e7fefb0b",
   "metadata": {},
   "source": [
    "## 29. Write a Python program to check if a given string is a valid palindrome ignoring non-alphanumeric characters. "
   ]
  },
  {
   "cell_type": "code",
   "execution_count": 28,
   "id": "4a559434",
   "metadata": {},
   "outputs": [
    {
     "data": {
      "text/plain": [
       "' Not Valid Palindrome'"
      ]
     },
     "execution_count": 28,
     "metadata": {},
     "output_type": "execute_result"
    }
   ],
   "source": [
    "# Function definition\n",
    "# palindrome ignoring non-alphanumeric characters\n",
    "def palindrome(s):\n",
    "    j =1\n",
    "    for i in range(len(s)):\n",
    "        while s[-j].isalnum():\n",
    "            if s[i] == s[-j]:\n",
    "                j = j+1\n",
    "            else: \n",
    "                return \" Not Valid Palindrome\"\n",
    "        j = j+1\n",
    "    return \" Valid Palindrome\"\n",
    "            \n",
    "    \n",
    "\n",
    "# Driver code\n",
    "s  = \"kttk\"\n",
    "palindrome(s)"
   ]
  },
  {
   "cell_type": "markdown",
   "id": "784e4e11",
   "metadata": {},
   "source": [
    "## 30. Implement a function to find the minimum element in a rotated sorted list. "
   ]
  },
  {
   "cell_type": "code",
   "execution_count": 59,
   "id": "b2b1f33f",
   "metadata": {},
   "outputs": [
    {
     "data": {
      "text/plain": [
       "0"
      ]
     },
     "execution_count": 59,
     "metadata": {},
     "output_type": "execute_result"
    }
   ],
   "source": [
    "# Function definition\n",
    "def find_minimum(nums):\n",
    "    left = 0\n",
    "    right = len(nums) - 1\n",
    "\n",
    "    while left < right:\n",
    "        mid = left + (right - left) // 2\n",
    "\n",
    "        # Check if the mid element is greater than the rightmost element\n",
    "        if nums[mid] > nums[right]:\n",
    "            left = mid + 1\n",
    "        # Check if the mid element is smaller than the rightmost element\n",
    "        elif nums[mid] < nums[right]:\n",
    "            right = mid\n",
    "        # If there are duplicate elements, move the right pointer inward\n",
    "        else:\n",
    "            right -= 1\n",
    "\n",
    "    return nums[left]\n",
    "\n",
    "\n",
    "# driver code\n",
    "list = [4, 5, 6, 7, 0, 1, 2]\n",
    "find_minimum(list)\n",
    "\n"
   ]
  },
  {
   "cell_type": "markdown",
   "id": "8f6fc6b5",
   "metadata": {},
   "source": [
    "## 31. Write a program to find the sum of all even numbers in a list. "
   ]
  },
  {
   "cell_type": "code",
   "execution_count": 29,
   "id": "2e306787",
   "metadata": {},
   "outputs": [
    {
     "data": {
      "text/plain": [
       "10"
      ]
     },
     "execution_count": 29,
     "metadata": {},
     "output_type": "execute_result"
    }
   ],
   "source": [
    "# Function definition\n",
    "def sum_ofeven_nos(lst):\n",
    "    sum = 0\n",
    "    for i in lst:\n",
    "        if i % 2 == 0:\n",
    "            sum = sum + i\n",
    "    return sum\n",
    "    \n",
    "\n",
    "# Driver code\n",
    "lst = [1,3,5,7,9,8,2]\n",
    "sum_ofeven_nos(lst)"
   ]
  },
  {
   "cell_type": "markdown",
   "id": "11997f42",
   "metadata": {},
   "source": [
    "## 32. Implement a function to calculate the power of a number using recursion."
   ]
  },
  {
   "cell_type": "code",
   "execution_count": 30,
   "id": "434b41d4",
   "metadata": {},
   "outputs": [
    {
     "data": {
      "text/plain": [
       "256"
      ]
     },
     "execution_count": 30,
     "metadata": {},
     "output_type": "execute_result"
    }
   ],
   "source": [
    "# Function definition\n",
    "def power_ofnum(N,p):\n",
    "    val = 1\n",
    "    for i in range(p):\n",
    "        val = val*N\n",
    "    return val\n",
    "    \n",
    "\n",
    "\n",
    "# Driver code\n",
    "N = 16\n",
    "p = 2\n",
    "\n",
    "power_ofnum(N,p)"
   ]
  },
  {
   "cell_type": "markdown",
   "id": "dd8fffe0",
   "metadata": {},
   "source": [
    "## 33. Write a Python program to remove duplicates from a list while preserving the order. "
   ]
  },
  {
   "cell_type": "code",
   "execution_count": 31,
   "id": "2eaa3591",
   "metadata": {},
   "outputs": [
    {
     "data": {
      "text/plain": [
       "[2, 4, 3, 5, 23]"
      ]
     },
     "execution_count": 31,
     "metadata": {},
     "output_type": "execute_result"
    }
   ],
   "source": [
    "# Function definition\n",
    "def remove_duplicates(lst):\n",
    "    nlst = []\n",
    "    for i in lst:\n",
    "        if i not in nlst:\n",
    "            nlst.append(i)\n",
    "            \n",
    "    return nlst   \n",
    "    \n",
    "    \n",
    "# Driver code\n",
    "lst = [2,4,3,5,4,23,23,3,5,2]\n",
    "remove_duplicates(lst)"
   ]
  },
  {
   "cell_type": "markdown",
   "id": "cc8df373",
   "metadata": {},
   "source": [
    "## 34. Implement a function to find the longest common prefix among a list of strings."
   ]
  },
  {
   "cell_type": "code",
   "execution_count": 49,
   "id": "f97a5ab5",
   "metadata": {},
   "outputs": [
    {
     "data": {
      "text/plain": [
       "'a'"
      ]
     },
     "execution_count": 49,
     "metadata": {},
     "output_type": "execute_result"
    }
   ],
   "source": [
    "# Funciton definition\n",
    "def common_prefix(strs):\n",
    "    if not strs:\n",
    "        return \"\"  \n",
    "\n",
    "    strs.sort()  # Sort the list of strings to easily compare the first and last strings\n",
    "\n",
    "    # Compare the first and last strings character by character\n",
    "    for i in range(len(strs[0])):\n",
    "        if strs[0][i] != strs[-1][i]:\n",
    "            return strs[0][:i]  \n",
    "\n",
    "    return strs[0] \n",
    "    \n",
    "     \n",
    "\n",
    "# Driver code\n",
    "lst = [\"abc\",\"ab\",\"abcd\",\"adab\",\"abdc\"]\n",
    "common_prefix(lst)\n",
    "\n"
   ]
  },
  {
   "cell_type": "markdown",
   "id": "a529e0d6",
   "metadata": {},
   "source": [
    "## 35. Write a program to check if a given number is a perfect square. "
   ]
  },
  {
   "cell_type": "code",
   "execution_count": 57,
   "id": "4f9fc928",
   "metadata": {},
   "outputs": [
    {
     "data": {
      "text/plain": [
       "' Given no is not a perfect square'"
      ]
     },
     "execution_count": 57,
     "metadata": {},
     "output_type": "execute_result"
    }
   ],
   "source": [
    "# Function definition\n",
    "def perfect_square(N):\n",
    "    i = 1\n",
    "    for i in range(N):\n",
    "    #while i<N:\n",
    "        if i**2 == N:\n",
    "            i = i+1\n",
    "            return \"Given no is a Perfect Square\"\n",
    "        \n",
    "        \n",
    "    return \" Given no is not a perfect square\"\n",
    "\n",
    "\n",
    "# Driver code\n",
    "N = 24\n",
    "perfect_square(N)"
   ]
  },
  {
   "cell_type": "markdown",
   "id": "4966b768",
   "metadata": {},
   "source": [
    "## 36. Implement a function to calculate the product of all elements in a list. "
   ]
  },
  {
   "cell_type": "code",
   "execution_count": 4,
   "id": "890ee656",
   "metadata": {},
   "outputs": [
    {
     "data": {
      "text/plain": [
       "216"
      ]
     },
     "execution_count": 4,
     "metadata": {},
     "output_type": "execute_result"
    }
   ],
   "source": [
    "# Function definition\n",
    "def prod_ofele(lst):\n",
    "    prod  = 1\n",
    "    for i in lst:\n",
    "        prod = prod * i\n",
    "        \n",
    "    return prod\n",
    "\n",
    "\n",
    "# Driver code\n",
    "lst = [2,3,6,6]\n",
    "prod_ofele(lst)"
   ]
  },
  {
   "cell_type": "markdown",
   "id": "4e1496ba",
   "metadata": {},
   "source": [
    "## 37. Write a Python program to reverse the order of words in a sentence while preserving the word order. "
   ]
  },
  {
   "cell_type": "code",
   "execution_count": 9,
   "id": "fe7a1616",
   "metadata": {},
   "outputs": [
    {
     "data": {
      "text/plain": [
       "'redro fo sdrow ni a ecnetnes'"
      ]
     },
     "execution_count": 9,
     "metadata": {},
     "output_type": "execute_result"
    }
   ],
   "source": [
    "# Function definition\n",
    "def reverse_order_ofwords(sentence):\n",
    "    lst = sentence.split()\n",
    "    for i in range(len(lst)):\n",
    "        lst[i] = lst[i][::-1]\n",
    "        \n",
    "    nsentence = \" \".join(lst)\n",
    "        \n",
    "    return nsentence\n",
    "    \n",
    "\n",
    "# Driver code\n",
    "sentence = \"order of words in a sentence\"\n",
    "reverse_order_ofwords(sentence)"
   ]
  },
  {
   "cell_type": "markdown",
   "id": "7429cf2b",
   "metadata": {},
   "source": [
    "## 38. Implement a function to find the missing number in a given list of consecutive numbers. "
   ]
  },
  {
   "cell_type": "code",
   "execution_count": 10,
   "id": "284ffa76",
   "metadata": {},
   "outputs": [
    {
     "data": {
      "text/plain": [
       "15"
      ]
     },
     "execution_count": 10,
     "metadata": {},
     "output_type": "execute_result"
    }
   ],
   "source": [
    "# Function definition\n",
    "def missing_consecutive_no(lst):\n",
    "    lst.sort()\n",
    "    start = lst[0]\n",
    "    end = lst[-1]\n",
    "    for i in range(start,end):\n",
    "        if i in lst:\n",
    "            pass\n",
    "        else:\n",
    "            return i\n",
    "    return \" List contains only consecutive elements\"\n",
    "            \n",
    "\n",
    "# Driver code\n",
    "lst = [11,12,13,14,16]\n",
    "missing_consecutive_no(lst)"
   ]
  },
  {
   "cell_type": "markdown",
   "id": "f6b9daac",
   "metadata": {},
   "source": [
    "## 39. Write a program to find the sum of digits of a given number. "
   ]
  },
  {
   "cell_type": "code",
   "execution_count": 18,
   "id": "1f2601ce",
   "metadata": {},
   "outputs": [
    {
     "data": {
      "text/plain": [
       "10"
      ]
     },
     "execution_count": 18,
     "metadata": {},
     "output_type": "execute_result"
    }
   ],
   "source": [
    "# Function definition\n",
    "def sum_ofdigits(N):\n",
    "    sum = 0\n",
    "    len(str(N))\n",
    "    while N>0:\n",
    "        R = N % 10\n",
    "        N = N // 10\n",
    "        sum = sum + R\n",
    "    return sum\n",
    "    \n",
    "               \n",
    "\n",
    "# Driver program\n",
    "N = 2341\n",
    "sum_ofdigits(N)\n"
   ]
  },
  {
   "cell_type": "markdown",
   "id": "5244fdc7",
   "metadata": {},
   "source": [
    "## 40. Implement a function to check if a given string is a valid palindrome considering case sensitivity. "
   ]
  },
  {
   "cell_type": "code",
   "execution_count": 56,
   "id": "e324d2c8",
   "metadata": {},
   "outputs": [
    {
     "name": "stdout",
     "output_type": "stream",
     "text": [
      "left: 1\n",
      "left: 5\n",
      "left: 6\n",
      "left: 8\n",
      "left: 13\n",
      "left: 14\n",
      "left: 16\n"
     ]
    },
    {
     "data": {
      "text/plain": [
       "True"
      ]
     },
     "execution_count": 56,
     "metadata": {},
     "output_type": "execute_result"
    }
   ],
   "source": [
    "# Function definition\n",
    "def is_valid_palindrome(s):\n",
    "    s = s.lower()\n",
    "    left = 0\n",
    "    right = len(s) - 1\n",
    "\n",
    "    while left < right:\n",
    "        while left < right and not s[left].isalnum(): # Ignore non-alphanumeric characters\n",
    "            left += 1\n",
    "        while left < right and not s[right].isalnum():\n",
    "            right -= 1\n",
    "\n",
    "        # Compare characters\n",
    "        if s[left] != s[right]:\n",
    "            return False\n",
    "\n",
    "        left += 1\n",
    "        right -= 1\n",
    "\n",
    "    return True\n",
    "\n",
    "\n",
    "# Driver code\n",
    "input_string = \"A man, a plan, a canal: Panama\"\n",
    "is_valid_palindrome(input_string)\n",
    "\n"
   ]
  },
  {
   "cell_type": "markdown",
   "id": "9afb9920",
   "metadata": {},
   "source": [
    "## 41. Write a Python program to find the smallest missing positive integer in a list."
   ]
  },
  {
   "cell_type": "code",
   "execution_count": 20,
   "id": "6eedc568",
   "metadata": {},
   "outputs": [
    {
     "data": {
      "text/plain": [
       "2"
      ]
     },
     "execution_count": 20,
     "metadata": {},
     "output_type": "execute_result"
    }
   ],
   "source": [
    "# Function definition\n",
    "def samllest_positive_int(lst):\n",
    "    count = 0\n",
    "    for i in lst:\n",
    "        if type(i) == int:\n",
    "            count = count+ 1\n",
    "            if count == 1:\n",
    "                small = i\n",
    "            elif i < small:\n",
    "                small = i\n",
    "    return small   \n",
    "\n",
    "\n",
    "# Driver code\n",
    "lst  = [\"s\",\"siva\",0.5,35,2]\n",
    "samllest_positive_int(lst)\n"
   ]
  },
  {
   "cell_type": "markdown",
   "id": "0755d970",
   "metadata": {},
   "source": [
    "## 42. Implement a function to find the longest palindrome substring in a given string. "
   ]
  },
  {
   "cell_type": "code",
   "execution_count": 51,
   "id": "99b59a7d",
   "metadata": {},
   "outputs": [
    {
     "data": {
      "text/plain": [
       "'bab'"
      ]
     },
     "execution_count": 51,
     "metadata": {},
     "output_type": "execute_result"
    }
   ],
   "source": [
    "# Function definiton\n",
    "def longest_palindrome_substring(s):\n",
    "    res = \"\"\n",
    "    for i in range(len(s)):\n",
    "        # odd case, like \"aba\"\n",
    "        tmp = expand(s, i, i)\n",
    "        if len(tmp) > len(res):\n",
    "            res = tmp\n",
    "        # even case, like \"abba\"\n",
    "        tmp = expand(s, i, i + 1)\n",
    "        if len(tmp) > len(res):\n",
    "            res = tmp\n",
    "    return res\n",
    " \n",
    "# get the longest palindrome, l, r are the middle indexes   \n",
    "# from inner to outer\n",
    "def expand(s, left, right):\n",
    "    while left >= 0 and right < len(s) and s[left] == s[right]:\n",
    "        left -= 1; right += 1\n",
    "    return s[left + 1 : right]\n",
    "\n",
    "\n",
    "# Driver code\n",
    "s = \"babad\"\n",
    "#s = \"cbbd\"\n",
    "longest_palindrome_substring(s)\n",
    "          \n",
    "        \n",
    "\n",
    "\n"
   ]
  },
  {
   "cell_type": "markdown",
   "id": "39f2e668",
   "metadata": {},
   "source": [
    "## 43. Write a program to find the number of occurrences of a given element in a list. "
   ]
  },
  {
   "cell_type": "code",
   "execution_count": 25,
   "id": "f7fafa4a",
   "metadata": {},
   "outputs": [
    {
     "data": {
      "text/plain": [
       "2"
      ]
     },
     "execution_count": 25,
     "metadata": {},
     "output_type": "execute_result"
    }
   ],
   "source": [
    "# Fiunction definition\n",
    "def noof_occurances(lst,num):\n",
    "    n = lst.count(num)\n",
    "    return n\n",
    "\n",
    "# Driver code\n",
    "lst = [\"s\",\"s\",\"m\",2,5,8,3,\"d\",4,3]\n",
    "num = \"s\"\n",
    "noof_occurances(lst,num)"
   ]
  },
  {
   "cell_type": "markdown",
   "id": "3b8cda41",
   "metadata": {},
   "source": [
    "## 44. Implement a function to check if a given number is a perfect number. "
   ]
  },
  {
   "cell_type": "code",
   "execution_count": 31,
   "id": "bcf8e79e",
   "metadata": {},
   "outputs": [
    {
     "data": {
      "text/plain": [
       "'Given no is a perfect number'"
      ]
     },
     "execution_count": 31,
     "metadata": {},
     "output_type": "execute_result"
    }
   ],
   "source": [
    "# Funciton definition\n",
    "def perfect_num(num):\n",
    "    lst_fact = []\n",
    "    count = 1\n",
    "    while count < num:\n",
    "        if num % count == 0:\n",
    "            lst_fact.append(count)\n",
    "        count = count+1\n",
    "    \n",
    "    sum_of_fact = sum(lst_fact)\n",
    "    if sum_of_fact == num:\n",
    "        return \"Given no is a perfect number\"\n",
    "    else:\n",
    "        return \"Given no is not a perfect number\"\n",
    "            \n",
    "\n",
    "\n",
    "# Driver code\n",
    "num = 8128\n",
    "perfect_num(num)"
   ]
  },
  {
   "cell_type": "markdown",
   "id": "18705517",
   "metadata": {},
   "source": [
    "## 45. Write a Python program to remove all duplicates from a string. "
   ]
  },
  {
   "cell_type": "code",
   "execution_count": 34,
   "id": "58aec8a3",
   "metadata": {},
   "outputs": [
    {
     "data": {
      "text/plain": [
       "'sivnda'"
      ]
     },
     "execution_count": 34,
     "metadata": {},
     "output_type": "execute_result"
    }
   ],
   "source": [
    "# Funciton definition\n",
    "def remove_all_duplicates(string):\n",
    "    lst = list(string)\n",
    "    for i in lst:\n",
    "        count = lst.count(i)\n",
    "        j = 0\n",
    "        while j <  count - 1:\n",
    "            lst.remove(i)\n",
    "            j = j+1\n",
    "    nstring = \"\".join(lst)\n",
    "    return nstring\n",
    "\n",
    "\n",
    "# Driver code\n",
    "string = \"sivananda\"\n",
    "remove_all_duplicates(string)"
   ]
  },
  {
   "cell_type": "markdown",
   "id": "0800b82f",
   "metadata": {},
   "source": [
    "## 46. Implement a function to find the first missing positive"
   ]
  },
  {
   "cell_type": "code",
   "execution_count": 37,
   "id": "b267d128",
   "metadata": {},
   "outputs": [
    {
     "data": {
      "text/plain": [
       "'2 value missing in list'"
      ]
     },
     "execution_count": 37,
     "metadata": {},
     "output_type": "execute_result"
    }
   ],
   "source": [
    "# Function definiton\n",
    "def first_missing_positive(lst):\n",
    "    lst.sort()\n",
    "    positive = 0\n",
    "    for i in range(len(lst)):\n",
    "        if i > 0:\n",
    "            index = i\n",
    "            positive = 1 + positive\n",
    "            if positive == lst[i]:\n",
    "                pass\n",
    "            else:\n",
    "                return \"{} value missing in list\".format(positive)\n",
    "    return \"No missing positive value\"\n",
    "       \n",
    "            \n",
    "\n",
    "# Driver code\n",
    "lst = [3,-2,1]\n",
    "first_missing_positive(lst)"
   ]
  },
  {
   "cell_type": "code",
   "execution_count": null,
   "id": "3d95d474",
   "metadata": {},
   "outputs": [],
   "source": []
  },
  {
   "cell_type": "code",
   "execution_count": null,
   "id": "00dcd249",
   "metadata": {},
   "outputs": [],
   "source": []
  }
 ],
 "metadata": {
  "kernelspec": {
   "display_name": "Python 3 (ipykernel)",
   "language": "python",
   "name": "python3"
  },
  "language_info": {
   "codemirror_mode": {
    "name": "ipython",
    "version": 3
   },
   "file_extension": ".py",
   "mimetype": "text/x-python",
   "name": "python",
   "nbconvert_exporter": "python",
   "pygments_lexer": "ipython3",
   "version": "3.10.9"
  }
 },
 "nbformat": 4,
 "nbformat_minor": 5
}
