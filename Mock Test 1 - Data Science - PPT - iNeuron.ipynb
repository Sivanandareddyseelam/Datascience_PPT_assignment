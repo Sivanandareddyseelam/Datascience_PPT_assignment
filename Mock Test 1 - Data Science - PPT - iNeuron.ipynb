{
 "cells": [
  {
   "cell_type": "code",
   "execution_count": 41,
   "id": "825ec67b",
   "metadata": {},
   "outputs": [
    {
     "data": {
      "text/plain": [
       "[2, 4, 6, 8, 10]"
      ]
     },
     "execution_count": 41,
     "metadata": {},
     "output_type": "execute_result"
    }
   ],
   "source": [
    "\"\"\"\n",
    "17. Write a function that takes a list of numbers as input and returns a new list containing only the even numbers from the input list. Use list comprehension to solve this problem.\n",
    "\n",
    "Example:\n",
    "\n",
    "Input: [1, 2, 3, 4, 5, 6, 7, 8, 9, 10]\n",
    "\n",
    "Output: [2, 4, 6, 8, 10]\n",
    "\n",
    "\"\"\"\n",
    "# Function definition\n",
    "def even_nos(input):\n",
    "    return [x for x in input if x%2 == 0]\n",
    "\n",
    "\n",
    "# Driver code\n",
    "input =  [1, 2, 3, 4, 5, 6, 7, 8, 9, 10]\n",
    "even_nos(input)\n",
    "\n",
    "\n",
    "\n"
   ]
  },
  {
   "cell_type": "code",
   "execution_count": null,
   "id": "bb078b80",
   "metadata": {},
   "outputs": [],
   "source": []
  },
  {
   "cell_type": "code",
   "execution_count": 42,
   "id": "b8c61097",
   "metadata": {},
   "outputs": [
    {
     "data": {
      "text/plain": [
       "'Execution time: 3.5636894702911377 seconds'"
      ]
     },
     "execution_count": 42,
     "metadata": {},
     "output_type": "execute_result"
    }
   ],
   "source": [
    "\"\"\"\n",
    "18. Implement a decorator function called ‘timer’ that measures the execution time of a function. \n",
    "The ‘timer’ decorator should print the time taken by the decorated function to execute. \n",
    "Use the ‘time’ module in Python to calculate the execution time.\n",
    "\n",
    "Example:\n",
    "\n",
    "import time\n",
    "\n",
    "@timer\n",
    "def my_function():\n",
    "    # Function code goes here\n",
    "    time.sleep(2)\n",
    "\n",
    "my_function()\n",
    "\n",
    "Output:\n",
    "\"Execution time: 2.00123 seconds\"\n",
    "\n",
    "\"\"\"\n",
    "\n",
    "import time\n",
    "\n",
    "# decorator function\n",
    "def timer(my_function):\n",
    "    def inner():\n",
    "        start = time.time()\n",
    "        my_function()\n",
    "        end = time.time()\n",
    "        exetime = str(end-start)\n",
    "        return \"Execution time: \"+ exetime + \" seconds\"\n",
    "    return inner\n",
    "\n",
    "@timer\n",
    "def my_function():\n",
    "    # Function code goes here\n",
    "    input =  [1, 2, 3, 4, 5, 6, 7, 8, 9, 10]\n",
    "    for i in range(100000000):\n",
    "        pass\n",
    "    #time.sleep(2)\n",
    "\n",
    "my_function()\n"
   ]
  },
  {
   "cell_type": "code",
   "execution_count": null,
   "id": "4041c0ad",
   "metadata": {},
   "outputs": [],
   "source": []
  },
  {
   "cell_type": "code",
   "execution_count": 43,
   "id": "c3b92705",
   "metadata": {},
   "outputs": [
    {
     "name": "stdout",
     "output_type": "stream",
     "text": [
      "Mean: 25.0\n"
     ]
    }
   ],
   "source": [
    "\"\"\"\n",
    "19. Write a function called ‘calculate_mean’ that takes a list of numbers as input and \n",
    "returns the mean (average) of the numbers. \n",
    "The function should calculate the mean using the sum of the numbers divided by the total count.\n",
    "\n",
    "Example:\n",
    "\n",
    "def calculate_mean(numbers):\n",
    "    total = sum(numbers)\n",
    "    count = len(numbers)\n",
    "    mean = total / count\n",
    "    return mean\n",
    "\n",
    "data = [10, 15, 20, 25, 30]\n",
    "mean_value = calculate_mean(data)\n",
    "print(\"Mean:\", mean_value)\n",
    "\n",
    "Output:\n",
    "Mean: 20.0\n",
    "\"\"\"\n",
    "\n",
    "# Function definition\n",
    "def calculate_mean(lst):\n",
    "    sum = 0\n",
    "    for i in lst:\n",
    "        sum = sum+i\n",
    "    return sum/len(lst)\n",
    "\n",
    "\n",
    "# Driver code\n",
    "lst = [10, 15, 20, 25, 30, 50]\n",
    "mean_value = calculate_mean(lst)\n",
    "print(\"Mean:\", mean_value)\n"
   ]
  },
  {
   "cell_type": "code",
   "execution_count": null,
   "id": "4acd34e4",
   "metadata": {},
   "outputs": [],
   "source": []
  },
  {
   "cell_type": "code",
   "execution_count": 44,
   "id": "171850ef",
   "metadata": {},
   "outputs": [
    {
     "data": {
      "text/plain": [
       "'Accept the Null Hypothesis with P_value as:0.09434977284243756'"
      ]
     },
     "execution_count": 44,
     "metadata": {},
     "output_type": "execute_result"
    }
   ],
   "source": [
    "\"\"\"\n",
    "20. Write a function called ‘perform_hypothesis_test’ that takes two lists of numbers as input, representing two samples.\n",
    "The function should perform a two-sample t-test and return the p-value. Use the ‘scipy.stats’ module in Python to \n",
    "calculate the t-test and p-value.\n",
    "\n",
    "Example:\n",
    "\n",
    "from scipy import stats\n",
    "\n",
    "def perform_hypothesis_test(sample1, sample2):\n",
    "    t_statistic, p_value = stats.ttest_ind(sample1, sample2)\n",
    "    return p_value\n",
    "\n",
    "sample1 = [5, 10, 15, 20, 25]\n",
    "sample2 = [10, 20, 30, 40, 50]\n",
    "p_value = perform_hypothesis_test(sample1, sample2)\n",
    "print(\"P-value:\", p_value)\n",
    "\n",
    "Output:\n",
    "P-value: 0.1064706396450037\n",
    "\"\"\"\n",
    "\n",
    "\n",
    "import scipy.stats as stats\n",
    "\n",
    "#H0 : Both Samples have same mean\n",
    "#H1 : Both Samples have different mean\n",
    "\n",
    "class hypothesis():\n",
    "    def __init__(self,sample1,sample2):\n",
    "        self.sample1 = sample1\n",
    "        self.sample2 = sample2\n",
    "    def twosample_ttest(self):\n",
    "        t_test,p_value = stats.ttest_ind(self.sample1,self.sample2)\n",
    "        \n",
    "        if p_value < 0.05:\n",
    "            return \"Reject the Null Hypothesis with P_value as: \" + str(p_value)\n",
    "        else:\n",
    "            return \"Accept the Null Hypothesis with P_value as:\" + str(p_value)\n",
    "\n",
    "\n",
    "# Driver code\n",
    "sample1 = [5, 10, 15, 20, 25]\n",
    "sample2 = [10, 20, 30, 40, 50]\n",
    "ttest = hypothesis(sample1, sample2)\n",
    "ttest.twosample_ttest()\n",
    "\n"
   ]
  },
  {
   "cell_type": "code",
   "execution_count": null,
   "id": "88b63ff5",
   "metadata": {},
   "outputs": [],
   "source": []
  }
 ],
 "metadata": {
  "kernelspec": {
   "display_name": "Python 3 (ipykernel)",
   "language": "python",
   "name": "python3"
  },
  "language_info": {
   "codemirror_mode": {
    "name": "ipython",
    "version": 3
   },
   "file_extension": ".py",
   "mimetype": "text/x-python",
   "name": "python",
   "nbconvert_exporter": "python",
   "pygments_lexer": "ipython3",
   "version": "3.10.9"
  }
 },
 "nbformat": 4,
 "nbformat_minor": 5
}
