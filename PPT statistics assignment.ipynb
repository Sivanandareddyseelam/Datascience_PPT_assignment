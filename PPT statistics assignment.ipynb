{
 "cells": [
  {
   "cell_type": "code",
   "execution_count": 1,
   "id": "4465de1b",
   "metadata": {},
   "outputs": [],
   "source": [
    "import pandas as pd\n",
    "import numpy as np\n",
    "import statistics as stat\n",
    "import scipy.stats as stats"
   ]
  },
  {
   "cell_type": "raw",
   "id": "1c357bb7",
   "metadata": {},
   "source": [
    "## 1. Scenario: A company wants to analyze the sales performance of its products in different regions. They have collected the following data:\n",
    "   Region A: [10, 15, 12, 8, 14]\n",
    "   Region B: [18, 20, 16, 22, 25]\n",
    "   Calculate the mean sales for each region.\n",
    " "
   ]
  },
  {
   "cell_type": "code",
   "execution_count": 2,
   "id": "8a53465b",
   "metadata": {},
   "outputs": [
    {
     "name": "stdout",
     "output_type": "stream",
     "text": [
      "Mean of region A: 11.8\n",
      "Mean of region B: 20.2\n"
     ]
    }
   ],
   "source": [
    "A = [10, 15, 12, 8, 14]\n",
    "B = [18, 20, 16, 22, 25] \n",
    "print(\"Mean of region A:\",stat.mean(A))\n",
    "print(\"Mean of region B:\",stat.mean(B))\n"
   ]
  },
  {
   "cell_type": "code",
   "execution_count": 3,
   "id": "e2ab0769",
   "metadata": {},
   "outputs": [
    {
     "name": "stdout",
     "output_type": "stream",
     "text": [
      "11.8\n",
      "20.2\n"
     ]
    }
   ],
   "source": [
    "A = [10, 15, 12, 8, 14]\n",
    "B = [18, 20, 16, 22, 25] \n",
    "df_A = pd.DataFrame(A)\n",
    "df_B = pd.DataFrame(B)\n",
    "#print(df_A.mean())\n",
    "#print(df_B.mean())\n",
    "\n",
    "#or\n",
    "\n",
    "print(np.mean(A))\n",
    "print(np.mean(B))"
   ]
  },
  {
   "cell_type": "raw",
   "id": "32dbd4b8",
   "metadata": {},
   "source": [
    "## 2. Scenario: A survey is conducted to measure customer satisfaction on a scale of 1 to 5. The data collected is as follows:\n",
    "   [4, 5, 2, 3, 5, 4, 3, 2, 4, 5]\n",
    "   Calculate the mode of the survey responses.\n"
   ]
  },
  {
   "cell_type": "code",
   "execution_count": 4,
   "id": "1b8c1c3f",
   "metadata": {},
   "outputs": [
    {
     "data": {
      "text/plain": [
       "4"
      ]
     },
     "execution_count": 4,
     "metadata": {},
     "output_type": "execute_result"
    }
   ],
   "source": [
    "data2 = [4, 5, 2, 3, 5, 4, 3, 2, 4, 5]\n",
    "stat.mode(data2)\n"
   ]
  },
  {
   "cell_type": "code",
   "execution_count": 5,
   "id": "73f413c5",
   "metadata": {},
   "outputs": [
    {
     "data": {
      "text/html": [
       "<div>\n",
       "<style scoped>\n",
       "    .dataframe tbody tr th:only-of-type {\n",
       "        vertical-align: middle;\n",
       "    }\n",
       "\n",
       "    .dataframe tbody tr th {\n",
       "        vertical-align: top;\n",
       "    }\n",
       "\n",
       "    .dataframe thead th {\n",
       "        text-align: right;\n",
       "    }\n",
       "</style>\n",
       "<table border=\"1\" class=\"dataframe\">\n",
       "  <thead>\n",
       "    <tr style=\"text-align: right;\">\n",
       "      <th></th>\n",
       "      <th>0</th>\n",
       "    </tr>\n",
       "  </thead>\n",
       "  <tbody>\n",
       "    <tr>\n",
       "      <th>0</th>\n",
       "      <td>4</td>\n",
       "    </tr>\n",
       "    <tr>\n",
       "      <th>1</th>\n",
       "      <td>5</td>\n",
       "    </tr>\n",
       "  </tbody>\n",
       "</table>\n",
       "</div>"
      ],
      "text/plain": [
       "   0\n",
       "0  4\n",
       "1  5"
      ]
     },
     "execution_count": 5,
     "metadata": {},
     "output_type": "execute_result"
    }
   ],
   "source": [
    "df_data2 = pd.DataFrame(data2)\n",
    "df_data2.mode()\n"
   ]
  },
  {
   "cell_type": "raw",
   "id": "24f0ed01",
   "metadata": {},
   "source": [
    "## 3. Scenario: A company wants to compare the salaries of two departments. The salary data for Department A and Department B are as follows:\n",
    "   Department A: [5000, 6000, 5500, 7000]\n",
    "   Department B: [4500, 5500, 5800, 6000, 5200]\n",
    "   Calculate the median salary for each department.\n",
    " "
   ]
  },
  {
   "cell_type": "code",
   "execution_count": 6,
   "id": "57b45d79",
   "metadata": {},
   "outputs": [
    {
     "name": "stdout",
     "output_type": "stream",
     "text": [
      "Median of Department-A: 5750.0\n",
      "Median of Department-B 5500\n"
     ]
    }
   ],
   "source": [
    "A = [5000, 6000, 5500, 7000] \n",
    "B = [4500, 5500, 5800, 6000, 5200] \n",
    "print(\"Median of Department-A:\",stat.median(A))\n",
    "print(\"Median of Department-B\",stat.median(B))"
   ]
  },
  {
   "cell_type": "raw",
   "id": "56838c98",
   "metadata": {},
   "source": [
    "## 4. Scenario: A data analyst wants to determine the variability in the daily stock prices of a company. The data collected is as follows:\n",
    "   [25.5, 24.8, 26.1, 25.3, 24.9]\n",
    "   Calculate the range of the stock prices.\n",
    " "
   ]
  },
  {
   "cell_type": "code",
   "execution_count": 7,
   "id": "29f3e465",
   "metadata": {},
   "outputs": [
    {
     "name": "stdout",
     "output_type": "stream",
     "text": [
      "Range :  1.300\n"
     ]
    }
   ],
   "source": [
    "data4 = [25.5, 24.8, 26.1, 25.3, 24.9]\n",
    "range_data4 = max(data4) - min(data4)\n",
    "print(\"Range : \",format(range_data4,\".3f\"))"
   ]
  },
  {
   "cell_type": "raw",
   "id": "030802c0",
   "metadata": {},
   "source": [
    "## 5. Scenario: A study is conducted to compare the performance of two different teaching methods. The test scores of the students in each group are as follows:\n",
    "   Group A: [85, 90, 92, 88, 91]\n",
    "   Group B: [82, 88, 90, 86, 87]\n",
    "   Perform a t-test to determine if there is a significant difference in the mean scores between the two groups.\n",
    " "
   ]
  },
  {
   "cell_type": "code",
   "execution_count": 8,
   "id": "7f8af571",
   "metadata": {},
   "outputs": [
    {
     "name": "stdout",
     "output_type": "stream",
     "text": [
      "Critical value :  2.3060041350333704 T-Statistics 1.4312528946642733\n",
      "Reject Null Hypothesis\n"
     ]
    }
   ],
   "source": [
    "# Data\n",
    "A = [85, 90, 92, 88, 91]\n",
    "B = [82, 88, 90, 86, 87]\n",
    "\"\"\"\n",
    "Defining Hypothesis:\n",
    "H0 = mean of two groups are distinct\n",
    "H1 = mean of two groups are similar\n",
    "\"\"\"\n",
    "alpha = 0.05   # significance value\n",
    "\n",
    "dof = len(A)+len(B)-2   # Degree of Freedom\n",
    "\n",
    "t_stat,pvalue = stats.ttest_ind(A, B)      # T-statistics and P-value\n",
    "\n",
    "critical_value = stats.t.ppf(1 - alpha/2, dof)  # Critical value for the given significance value\n",
    "\n",
    "\n",
    "print(\"Critical value : \",critical_value,\"T-Statistics\",t_stat)\n",
    "\n",
    "if t_stat < critical_value:\n",
    "    print(\"Reject Null Hypothesis\")\n",
    "else:\n",
    "    print(\"Fail to Reject Null Hypothesis\")\n",
    "\n"
   ]
  },
  {
   "cell_type": "raw",
   "id": "78b8eaa2",
   "metadata": {},
   "source": [
    "## 6. Scenario: A company wants to analyze the relationship between advertising expenditure and sales. The data collected is as follows:\n",
    "   Advertising Expenditure (in thousands): [10, 15, 12, 8, 14]\n",
    "   Sales (in thousands): [25, 30, 28, 20, 26]\n",
    "   Calculate the correlation coefficient between advertising expenditure and sales.\n",
    " "
   ]
  },
  {
   "cell_type": "code",
   "execution_count": 9,
   "id": "fce11e37",
   "metadata": {},
   "outputs": [
    {
     "name": "stdout",
     "output_type": "stream",
     "text": [
      "0.8757511375750133\n"
     ]
    }
   ],
   "source": [
    "expend = [10, 15, 12, 8, 14]\n",
    "sales = [25, 30, 28, 20, 26]\n",
    "\n",
    "\n",
    "correlation_coefficient = np.corrcoef(expend, sales)[0, 1]\n",
    "\n",
    "\n",
    "print(correlation_coefficient)"
   ]
  },
  {
   "cell_type": "raw",
   "id": "4e5ef9c6",
   "metadata": {},
   "source": [
    "## 7. Scenario: A survey is conducted to measure the heights of a group of people. The data collected is as follows:\n",
    "   [160, 170, 165, 155, 175, 180, 170]\n",
    "   Calculate the standard deviation of the heights.\n",
    " "
   ]
  },
  {
   "cell_type": "code",
   "execution_count": 10,
   "id": "6a98c16b",
   "metadata": {},
   "outputs": [
    {
     "name": "stdout",
     "output_type": "stream",
     "text": [
      "Standard deviation of heights of people is :  8.591\n"
     ]
    }
   ],
   "source": [
    "data7 = [160, 170, 165, 155, 175, 180, 170]\n",
    "print(\"Standard deviation of heights of people is : \",format(stat.stdev(data7),\".3f\"))"
   ]
  },
  {
   "cell_type": "raw",
   "id": "7724fff0",
   "metadata": {},
   "source": [
    "## 8. Scenario: A company wants to analyze the relationship between employee tenure and job satisfaction. The data collected is as follows:\n",
    "   Employee Tenure (in years): [2, 3, 5, 4, 6, 2, 4]\n",
    "   Job Satisfaction (on a scale of 1 to 10): [7, 8, 6, 9, 5, 7, 6]\n",
    "   Perform a linear regression analysis to predict job satisfaction based on employee tenure.\n",
    " "
   ]
  },
  {
   "cell_type": "code",
   "execution_count": 11,
   "id": "fae4bf53",
   "metadata": {},
   "outputs": [
    {
     "name": "stdout",
     "output_type": "stream",
     "text": [
      "                            OLS Regression Results                            \n",
      "==============================================================================\n",
      "Dep. Variable:                      y   R-squared:                       0.271\n",
      "Model:                            OLS   Adj. R-squared:                  0.125\n",
      "Method:                 Least Squares   F-statistic:                     1.859\n",
      "Date:                Thu, 13 Jul 2023   Prob (F-statistic):              0.231\n",
      "Time:                        21:39:26   Log-Likelihood:                -10.362\n",
      "No. Observations:                   7   AIC:                             24.72\n",
      "Df Residuals:                       5   BIC:                             24.62\n",
      "Df Model:                           1                                         \n",
      "Covariance Type:            nonrobust                                         \n",
      "==============================================================================\n",
      "                 coef    std err          t      P>|t|      [0.025      0.975]\n",
      "------------------------------------------------------------------------------\n",
      "const          8.5957      1.361      6.316      0.001       5.097      12.094\n",
      "x1            -0.4681      0.343     -1.363      0.231      -1.351       0.414\n",
      "==============================================================================\n",
      "Omnibus:                          nan   Durbin-Watson:                   2.414\n",
      "Prob(Omnibus):                    nan   Jarque-Bera (JB):                1.954\n",
      "Skew:                           1.292   Prob(JB):                        0.376\n",
      "Kurtosis:                       3.166   Cond. No.                         12.0\n",
      "==============================================================================\n",
      "\n",
      "Notes:\n",
      "[1] Standard Errors assume that the covariance matrix of the errors is correctly specified.\n"
     ]
    },
    {
     "name": "stderr",
     "output_type": "stream",
     "text": [
      "C:\\ProgramData\\anaconda3\\lib\\site-packages\\statsmodels\\stats\\stattools.py:74: ValueWarning: omni_normtest is not valid with less than 8 observations; 7 samples were given.\n",
      "  warn(\"omni_normtest is not valid with less than 8 observations; %i \"\n"
     ]
    }
   ],
   "source": [
    "import statsmodels.api as sm\n",
    "import numpy as np\n",
    "\n",
    "# Employee tenure (in years)\n",
    "tenure = np.array([2, 3, 5, 4, 6, 2, 4])\n",
    "\n",
    "# Job satisfaction (on a scale of 1 to 10)\n",
    "job_satisfaction = np.array([7, 8, 6, 9, 5, 7, 6])\n",
    "\n",
    "# Add a constant term to the independent variable (employee tenure)\n",
    "X = sm.add_constant(tenure)\n",
    "\n",
    "# Fit the linear regression model\n",
    "model = sm.OLS(job_satisfaction, X)\n",
    "results = model.fit()\n",
    "\n",
    "# Print the regression results\n",
    "print(results.summary())"
   ]
  },
  {
   "cell_type": "raw",
   "id": "3aa11347",
   "metadata": {},
   "source": [
    "## 9. Scenario: A study is conducted to compare the effectiveness of two different medications. The recovery times of the patients in each group are as follows:\n",
    "   Medication A: [10, 12, 14, 11, 13]\n",
    "   Medication B: [15, 17, 16, 14, 18]\n",
    "   Perform an analysis of variance (ANOVA) to determine if there is a significant difference in the mean recovery times between the two medications.\n"
   ]
  },
  {
   "cell_type": "code",
   "execution_count": 12,
   "id": "11ad497a",
   "metadata": {},
   "outputs": [
    {
     "name": "stdout",
     "output_type": "stream",
     "text": [
      "F_static : 16.0   P_value :  0.003949772803445326\n",
      "There is significant differnce between recovery times of two medications\n"
     ]
    },
    {
     "data": {
      "text/plain": [
       "'\\n# let say significance value is 0.05\\nalpha = 0.05\\n\\n# from F table critical value for f_static is 5.3177\\n# dofnumerator = no of groups - 1\\n# dofdenominator = total no of observations - no of groups\\n#*** critical_value = stats.f.ppf(1 - alpha, dfn, dfd)***\\nCV = 5.3177\\n\\n'"
      ]
     },
     "execution_count": 12,
     "metadata": {},
     "output_type": "execute_result"
    }
   ],
   "source": [
    "Medication_A = [10, 12, 14, 11, 13]\n",
    "Medication_B = [15, 17, 16, 14, 18]\n",
    "alpha = 0.05\n",
    "\n",
    "f_stat,p_value = stats.f_oneway(Medication_A, Medication_B)\n",
    "print(\"F_static :\", f_stat, \"  P_value : \",p_value)\n",
    "\n",
    "if p_value < alpha:\n",
    "    print(\"There is significant differnce between recovery times of two medications\")\n",
    "else:\n",
    "    print(\"There is no significant differnce between recovery times of two medications\")\n",
    "    \n",
    "\n",
    "\n",
    "\"\"\"\n",
    "# let say significance value is 0.05\n",
    "alpha = 0.05\n",
    "\n",
    "# from F table critical value for f_static is 5.3177\n",
    "# dofnumerator = no of groups - 1\n",
    "# dofdenominator = total no of observations - no of groups\n",
    "#*** critical_value = stats.f.ppf(1 - alpha, dfn, dfd)***\n",
    "CV = 5.3177\n",
    "\n",
    "\"\"\"\n"
   ]
  },
  {
   "cell_type": "raw",
   "id": "294f93ab",
   "metadata": {},
   "source": [
    "## 10. Scenario: A company wants to analyze customer feedback ratings on a scale of 1 to 10. The data collected is\n",
    "\n",
    " as follows:\n",
    "    [8, 9, 7, 6, 8, 10, 9, 8, 7, 8]\n",
    "    Calculate the 75th percentile of the feedback ratings.\n"
   ]
  },
  {
   "cell_type": "code",
   "execution_count": 13,
   "id": "129235a2",
   "metadata": {},
   "outputs": [
    {
     "name": "stdout",
     "output_type": "stream",
     "text": [
      "8.75\n"
     ]
    }
   ],
   "source": [
    "data10 = [8, 9, 7, 6, 8, 10, 9, 8, 7, 8]\n",
    "\n",
    "perce = np.percentile(data10, 75)\n",
    "\n",
    "print(perce)"
   ]
  },
  {
   "cell_type": "raw",
   "id": "4211e778",
   "metadata": {},
   "source": [
    "## 11. Scenario: A quality control department wants to test the weight consistency of a product. The weights of a sample of products are as follows:\n",
    "    [10.2, 9.8, 10.0, 10.5, 10.3, 10.1]\n",
    "    Perform a hypothesis test to determine if the mean weight differs significantly from 10 grams.\n",
    " "
   ]
  },
  {
   "cell_type": "code",
   "execution_count": 14,
   "id": "51a79555",
   "metadata": {},
   "outputs": [
    {
     "name": "stdout",
     "output_type": "stream",
     "text": [
      "Z-statistic: 1.5126584522688367\n",
      "P-value: 0.13036643831594386\n",
      "0.03276000000000001\n",
      "Reject Null Hypothesis\n"
     ]
    }
   ],
   "source": [
    "# Defining hypothesis\n",
    "#H0 : mean weight differs from 10 grams\n",
    "#H1 : mean weight is 10 grams\n",
    "\n",
    "import statsmodels.api as sm\n",
    "import numpy as np\n",
    "\n",
    "\n",
    "sample = np.array([10.2, 9.8, 10.0, 10.5, 10.3, 10.1])\n",
    "population_mean = 10\n",
    "\n",
    "# Perform the z-test\n",
    "z_statistic, p_value = sm.stats.ztest(sample, value=population_mean)\n",
    "\n",
    "# Print the results\n",
    "print(\"Z-statistic:\", z_statistic)\n",
    "print(\"P-value:\", p_value)\n",
    "\n",
    "rejreg = abs(0.93448-1)/2 # from Z table\n",
    "print(rejreg)\n",
    "\n",
    "if rejreg < p_value:\n",
    "    print(\"Reject Null Hypothesis\")\n",
    "else:\n",
    "    print(\"Fail to Reject Null Hypothesis\")"
   ]
  },
  {
   "cell_type": "raw",
   "id": "101e776d",
   "metadata": {},
   "source": [
    "## 12. Scenario: A company wants to analyze the click-through rates of two different website designs. The number of clicks for each design is as follows:\n",
    "    Design A: [100, 120, 110, 90, 95]\n",
    "    Design B: [80, 85, 90, 95, 100]\n",
    "    Perform a chi-square test to determine if there is a significant difference in the click-through rates between the two designs.\n",
    " "
   ]
  },
  {
   "cell_type": "code",
   "execution_count": 16,
   "id": "927f0d79",
   "metadata": {},
   "outputs": [
    {
     "name": "stdout",
     "output_type": "stream",
     "text": [
      "Chi-square statistic: [2.22222222 5.97560976 2.         0.13513514 0.12820513]\n",
      "P-value: [0.13603713 0.01450507 0.15729921 0.71316606 0.72030033]\n"
     ]
    }
   ],
   "source": [
    "import scipy.stats as stats\n",
    "\n",
    "# Click-through rates for Design A and Design B\n",
    "design_A = [100, 120, 110, 90, 95]\n",
    "design_B = [80, 85, 90, 95, 100]\n",
    "\n",
    "# Perform chi-square test\n",
    "observed = [design_A, design_B]\n",
    "chi2_statistic, p_value = stats.chisquare(observed)\n",
    "\n",
    "# Print the results\n",
    "print(\"Chi-square statistic:\", chi2_statistic)\n",
    "print(\"P-value:\", p_value)"
   ]
  },
  {
   "cell_type": "raw",
   "id": "f247c441",
   "metadata": {},
   "source": [
    "## 13. Scenario: A survey is conducted to measure customer satisfaction with a product on a scale of 1 to 10. The data collected is as follows:\n",
    "    [7, 9, 6, 8, 10, 7, 8, 9, 7, 8]\n",
    "    Calculate the 95% confidence interval for the population mean satisfaction score.\n"
   ]
  },
  {
   "cell_type": "code",
   "execution_count": 17,
   "id": "74e63608",
   "metadata": {},
   "outputs": [
    {
     "name": "stdout",
     "output_type": "stream",
     "text": [
      "Confidence Interval: 7.043561120599888 - 8.756438879400113\n"
     ]
    }
   ],
   "source": [
    "import numpy as np\n",
    "import scipy.stats as stats\n",
    "\n",
    "# Data collected (customer satisfaction scores)\n",
    "data = [7, 9, 6, 8, 10, 7, 8, 9, 7, 8]\n",
    "\n",
    "# Calculate sample mean and standard deviation\n",
    "sample_mean = np.mean(data)\n",
    "sample_std = np.std(data, ddof=1)\n",
    "\n",
    "# Set the sample size\n",
    "sample_size = len(data)\n",
    "\n",
    "# Set the confidence level (alpha)\n",
    "confidence_level = 0.95\n",
    "\n",
    "# Calculate the standard error (standard deviation divided by the square root of the sample size)\n",
    "standard_error = sample_std / np.sqrt(sample_size)\n",
    "\n",
    "# Calculate the margin of error\n",
    "margin_of_error = stats.t.ppf(1 - (1 - confidence_level) / 2, df=sample_size - 1) * standard_error\n",
    "\n",
    "# Calculate the lower and upper bounds of the confidence interval\n",
    "lower_bound = sample_mean - margin_of_error\n",
    "upper_bound = sample_mean + margin_of_error\n",
    "\n",
    "# Print the confidence interval\n",
    "print(\"Confidence Interval:\", lower_bound, \"-\", upper_bound)\n"
   ]
  },
  {
   "cell_type": "raw",
   "id": "48cc8d2c",
   "metadata": {},
   "source": [
    "## 14. Scenario: A company wants to analyze the effect of temperature on product performance. The data collected is as follows:\n",
    "    Temperature (in degrees Celsius): [20, 22, 23, 19, 21]\n",
    "    Performance (on a scale of 1 to 10): [8, 7, 9, 6, 8]\n",
    "    Perform a simple linear regression to predict performance based on temperature.\n"
   ]
  },
  {
   "cell_type": "code",
   "execution_count": 19,
   "id": "706cbdc1",
   "metadata": {},
   "outputs": [
    {
     "name": "stdout",
     "output_type": "stream",
     "text": [
      "Slope: 0.5\n",
      "Intercept: -2.9000000000000004\n",
      "R-squared: 0.4807692307692309\n",
      "P-value: 0.19417134561205843\n",
      "Standard error: 0.29999999999999993\n"
     ]
    }
   ],
   "source": [
    "import numpy as np\n",
    "import scipy.stats as stats\n",
    "\n",
    "# Temperature (in degrees Celsius)\n",
    "temperature = [20, 22, 23, 19, 21]\n",
    "\n",
    "# Performance (on a scale of 1 to 10)\n",
    "performance = [8, 7, 9, 6, 8]\n",
    "\n",
    "# Perform simple linear regression\n",
    "slope, intercept, r_value, p_value, std_err = stats.linregress(temperature, performance)\n",
    "\n",
    "# Print the regression results\n",
    "print(\"Slope:\", slope)\n",
    "print(\"Intercept:\", intercept)\n",
    "print(\"R-squared:\", r_value**2)\n",
    "print(\"P-value:\", p_value)\n",
    "print(\"Standard error:\", std_err)\n"
   ]
  },
  {
   "cell_type": "raw",
   "id": "d9f74d83",
   "metadata": {},
   "source": [
    "## 15. Scenario: A study is conducted to compare the preferences of two groups of participants. The preferences are measured on a Likert scale from 1 to 5. The data collected is as follows:\n",
    "    Group A: [4, 3, 5, 2, 4]\n",
    "    Group B: [3, 2, 4, 3, 3]\n",
    "    Perform a Mann-Whitney U test to determine if there is a significant difference in the median preferences between the two groups.\n"
   ]
  },
  {
   "cell_type": "code",
   "execution_count": 20,
   "id": "5d8ba0bc",
   "metadata": {},
   "outputs": [
    {
     "name": "stdout",
     "output_type": "stream",
     "text": [
      "Mann-Whitney U statistic: 17.0\n",
      "P-value: 0.380836480306712\n"
     ]
    }
   ],
   "source": [
    "import scipy.stats as stats\n",
    "\n",
    "# Preferences for Group A and Group B\n",
    "group_A = [4, 3, 5, 2, 4]\n",
    "group_B = [3, 2, 4, 3, 3]\n",
    "\n",
    "# Perform Mann-Whitney U test\n",
    "statistic, p_value = stats.mannwhitneyu(group_A, group_B, alternative='two-sided')\n",
    "\n",
    "# Print the test results\n",
    "print(\"Mann-Whitney U statistic:\", statistic)\n",
    "print(\"P-value:\", p_value)\n"
   ]
  },
  {
   "cell_type": "raw",
   "id": "620447e6",
   "metadata": {},
   "source": [
    "## 16. Scenario: A company wants to analyze the distribution of customer ages. The data collected is as follows:\n",
    "    [25, 30, 35, 40, 45, 50, 55, 60, 65, 70]\n",
    "    Calculate the interquartile range (IQR) of the ages.\n"
   ]
  },
  {
   "cell_type": "code",
   "execution_count": 22,
   "id": "cd8935fd",
   "metadata": {},
   "outputs": [
    {
     "name": "stdout",
     "output_type": "stream",
     "text": [
      "Interquartile Range (IQR): 22.5\n"
     ]
    }
   ],
   "source": [
    "import numpy as np\n",
    "\n",
    "# Customer ages\n",
    "ages = [25, 30, 35, 40, 45, 50, 55, 60, 65, 70]\n",
    "\n",
    "# Calculate the interquartile range (IQR)\n",
    "q75, q25 = np.percentile(ages, [75 ,25])\n",
    "iqr = q75 - q25\n",
    "\n",
    "# Print the IQR\n",
    "print(\"Interquartile Range (IQR):\", iqr)\n"
   ]
  },
  {
   "cell_type": "raw",
   "id": "7e99467b",
   "metadata": {},
   "source": [
    "## 17. Scenario: A study is conducted to compare the performance of three different machine learning algorithms. The accuracy scores for each algorithm are as follows:\n",
    "    Algorithm A: [0.85, 0.80, 0.82, 0.87, 0.83]\n",
    "    Algorithm B: [0.78, 0.82, 0.84, 0.80, 0.79]\n",
    "    Algorithm C: [0.90, 0.88, 0.89, 0.86, 0.87]\n",
    "    Perform a Kruskal-Wallis test to determine if there is a significant difference in the median accuracy scores between the algorithms.\n"
   ]
  },
  {
   "cell_type": "code",
   "execution_count": 23,
   "id": "7129e4be",
   "metadata": {},
   "outputs": [
    {
     "name": "stdout",
     "output_type": "stream",
     "text": [
      "Kruskal-Wallis statistic: 9.696947935368053\n",
      "P-value: 0.007840333026249539\n"
     ]
    }
   ],
   "source": [
    "import scipy.stats as stats\n",
    "\n",
    "# Accuracy scores for Algorithm A, Algorithm B, and Algorithm C\n",
    "algorithm_A = [0.85, 0.80, 0.82, 0.87, 0.83]\n",
    "algorithm_B = [0.78, 0.82, 0.84, 0.80, 0.79]\n",
    "algorithm_C = [0.90, 0.88, 0.89, 0.86, 0.87]\n",
    "\n",
    "# Perform Kruskal-Wallis test\n",
    "statistic, p_value = stats.kruskal(algorithm_A, algorithm_B, algorithm_C)\n",
    "\n",
    "# Print the test results\n",
    "print(\"Kruskal-Wallis statistic:\", statistic)\n",
    "print(\"P-value:\", p_value)"
   ]
  },
  {
   "cell_type": "raw",
   "id": "b904b143",
   "metadata": {},
   "source": [
    "## 18. Scenario: A company wants to analyze the effect of price on sales. The data collected is as follows:\n",
    "    Price (in dollars): [10, 15, 12, 8, 14]\n",
    "    Sales: [100, 80, 90, 110, 95]\n",
    "    Perform a simple linear regression to predict\n",
    "\n",
    " sales based on price.\n"
   ]
  },
  {
   "cell_type": "code",
   "execution_count": 24,
   "id": "f02a6ea6",
   "metadata": {},
   "outputs": [
    {
     "name": "stdout",
     "output_type": "stream",
     "text": [
      "Slope: -3.50609756097561\n",
      "Intercept: 136.3719512195122\n",
      "R-squared: 0.8064024390243903\n",
      "P-value: 0.038501782347537684\n",
      "Standard error: 0.9918303504036143\n"
     ]
    }
   ],
   "source": [
    "import numpy as np\n",
    "import scipy.stats as stats\n",
    "\n",
    "# Price (in dollars)\n",
    "price = [10, 15, 12, 8, 14]\n",
    "\n",
    "# Sales\n",
    "sales = [100, 80, 90, 110, 95]\n",
    "\n",
    "# Perform simple linear regression\n",
    "slope, intercept, r_value, p_value, std_err = stats.linregress(price, sales)\n",
    "\n",
    "# Print the regression results\n",
    "print(\"Slope:\", slope)\n",
    "print(\"Intercept:\", intercept)\n",
    "print(\"R-squared:\", r_value**2)\n",
    "print(\"P-value:\", p_value)\n",
    "print(\"Standard error:\", std_err)\n"
   ]
  },
  {
   "cell_type": "raw",
   "id": "0979b614",
   "metadata": {},
   "source": [
    "## 19. Scenario: A survey is conducted to measure the satisfaction levels of customers with a new product. The data collected is as follows:\n",
    "    [7, 8, 9, 6, 8, 7, 9, 7, 8, 7]\n",
    "    Calculate the standard error of the mean satisfaction score.\n",
    " "
   ]
  },
  {
   "cell_type": "code",
   "execution_count": 25,
   "id": "5b405145",
   "metadata": {},
   "outputs": [
    {
     "name": "stdout",
     "output_type": "stream",
     "text": [
      "Standard Error: 0.30550504633038933\n"
     ]
    }
   ],
   "source": [
    "import numpy as np\n",
    "import scipy.stats as stats\n",
    "\n",
    "# Satisfaction scores\n",
    "scores = [7, 8, 9, 6, 8, 7, 9, 7, 8, 7]\n",
    "\n",
    "# Calculate the standard error of the mean\n",
    "standard_error = stats.sem(scores)\n",
    "\n",
    "# Print the standard error\n",
    "print(\"Standard Error:\", standard_error)\n"
   ]
  },
  {
   "cell_type": "raw",
   "id": "aeb99d16",
   "metadata": {},
   "source": [
    "## 20. Scenario: A company wants to analyze the relationship between advertising expenditure and sales. The data collected is as follows:\n",
    "    Advertising Expenditure (in thousands): [10, 15, 12, 8, 14]\n",
    "    Sales (in thousands): [25, 30, 28, 20, 26]\n",
    "    Perform a multiple regression analysis to predict sales based on advertising expenditure.\n",
    "\n"
   ]
  },
  {
   "cell_type": "code",
   "execution_count": 27,
   "id": "732c0b8c",
   "metadata": {},
   "outputs": [
    {
     "name": "stdout",
     "output_type": "stream",
     "text": [
      "                            OLS Regression Results                            \n",
      "==============================================================================\n",
      "Dep. Variable:                      y   R-squared:                       0.767\n",
      "Model:                            OLS   Adj. R-squared:                  0.689\n",
      "Method:                 Least Squares   F-statistic:                     9.872\n",
      "Date:                Thu, 13 Jul 2023   Prob (F-statistic):             0.0516\n",
      "Time:                        22:05:40   Log-Likelihood:                -9.5288\n",
      "No. Observations:                   5   AIC:                             23.06\n",
      "Df Residuals:                       3   BIC:                             22.28\n",
      "Df Model:                           1                                         \n",
      "Covariance Type:            nonrobust                                         \n",
      "==============================================================================\n",
      "                 coef    std err          t      P>|t|      [0.025      0.975]\n",
      "------------------------------------------------------------------------------\n",
      "const         12.2012      4.429      2.755      0.070      -1.893      26.296\n",
      "x1             1.1524      0.367      3.142      0.052      -0.015       2.320\n",
      "==============================================================================\n",
      "Omnibus:                          nan   Durbin-Watson:                   1.136\n",
      "Prob(Omnibus):                    nan   Jarque-Bera (JB):                0.546\n",
      "Skew:                          -0.267   Prob(JB):                        0.761\n",
      "Kurtosis:                       1.471   Cond. No.                         57.3\n",
      "==============================================================================\n",
      "\n",
      "Notes:\n",
      "[1] Standard Errors assume that the covariance matrix of the errors is correctly specified.\n"
     ]
    },
    {
     "name": "stderr",
     "output_type": "stream",
     "text": [
      "C:\\ProgramData\\anaconda3\\lib\\site-packages\\statsmodels\\stats\\stattools.py:74: ValueWarning: omni_normtest is not valid with less than 8 observations; 5 samples were given.\n",
      "  warn(\"omni_normtest is not valid with less than 8 observations; %i \"\n"
     ]
    }
   ],
   "source": [
    "import numpy as np\n",
    "import statsmodels.api as sm\n",
    "\n",
    "# Advertising Expenditure (in thousands)\n",
    "expenditure = [10, 15, 12, 8, 14]\n",
    "\n",
    "# Sales (in thousands)\n",
    "sales = [25, 30, 28, 20, 26]\n",
    "\n",
    "# Add a constant term to the expenditure\n",
    "expenditure = sm.add_constant(expenditure)\n",
    "\n",
    "# Create a multiple regression model\n",
    "model = sm.OLS(sales, expenditure)\n",
    "\n",
    "# Fit the model to the data\n",
    "results = model.fit()\n",
    "\n",
    "# Print the regression results\n",
    "print(results.summary())\n"
   ]
  },
  {
   "cell_type": "code",
   "execution_count": null,
   "id": "6ff6c774",
   "metadata": {},
   "outputs": [],
   "source": []
  }
 ],
 "metadata": {
  "kernelspec": {
   "display_name": "Python 3 (ipykernel)",
   "language": "python",
   "name": "python3"
  },
  "language_info": {
   "codemirror_mode": {
    "name": "ipython",
    "version": 3
   },
   "file_extension": ".py",
   "mimetype": "text/x-python",
   "name": "python",
   "nbconvert_exporter": "python",
   "pygments_lexer": "ipython3",
   "version": "3.10.9"
  }
 },
 "nbformat": 4,
 "nbformat_minor": 5
}
